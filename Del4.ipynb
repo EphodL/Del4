{
 "cells": [
  {
   "cell_type": "code",
   "execution_count": 1,
   "id": "9b0bcc57-329e-404e-84dd-ebe33d48d7c8",
   "metadata": {},
   "outputs": [],
   "source": [
    "import pandas as pd\n",
    "import numpy as np\n",
    "import seaborn as sns"
   ]
  },
  {
   "cell_type": "code",
   "execution_count": 2,
   "id": "5afe40bc-6c2e-422f-bafc-7533bbf6df29",
   "metadata": {},
   "outputs": [],
   "source": [
    "iris = sns.load_dataset('iris')"
   ]
  },
  {
   "cell_type": "code",
   "execution_count": 3,
   "id": "c4bc0f8f-c96f-4cad-a3ee-01c4e35e9d53",
   "metadata": {},
   "outputs": [],
   "source": [
    "iris = iris.drop('species', axis = 1)"
   ]
  },
  {
   "cell_type": "code",
   "execution_count": 4,
   "id": "f5c92ed8-9752-446a-9f67-1662dfb80f96",
   "metadata": {},
   "outputs": [],
   "source": [
    "iris['sepal_sum'] = iris['sepal_length'] + iris['sepal_width']\n",
    "iris['petal_sum'] = iris['petal_length'] + iris['petal_width']"
   ]
  },
  {
   "cell_type": "code",
   "execution_count": 5,
   "id": "6fabee87-d2df-4324-8bc1-e2d78b984406",
   "metadata": {},
   "outputs": [
    {
     "name": "stdout",
     "output_type": "stream",
     "text": [
      "     sepal_length  sepal_width  petal_length  petal_width  sepal_sum  \\\n",
      "0             5.1          3.5           1.4          0.2        8.6   \n",
      "1             4.9          3.0           1.4          0.2        7.9   \n",
      "2             4.7          3.2           1.3          0.2        7.9   \n",
      "3             4.6          3.1           1.5          0.2        7.7   \n",
      "4             5.0          3.6           1.4          0.2        8.6   \n",
      "..            ...          ...           ...          ...        ...   \n",
      "145           6.7          3.0           5.2          2.3        9.7   \n",
      "146           6.3          2.5           5.0          1.9        8.8   \n",
      "147           6.5          3.0           5.2          2.0        9.5   \n",
      "148           6.2          3.4           5.4          2.3        9.6   \n",
      "149           5.9          3.0           5.1          1.8        8.9   \n",
      "\n",
      "     petal_sum  \n",
      "0          1.6  \n",
      "1          1.6  \n",
      "2          1.5  \n",
      "3          1.7  \n",
      "4          1.6  \n",
      "..         ...  \n",
      "145        7.5  \n",
      "146        6.9  \n",
      "147        7.2  \n",
      "148        7.7  \n",
      "149        6.9  \n",
      "\n",
      "[150 rows x 6 columns]\n"
     ]
    }
   ],
   "source": [
    "print(iris)"
   ]
  },
  {
   "cell_type": "code",
   "execution_count": 7,
   "id": "879a6e66-2383-4024-a818-9960b9719baf",
   "metadata": {},
   "outputs": [
    {
     "ename": "SyntaxError",
     "evalue": "invalid syntax (2898012327.py, line 5)",
     "output_type": "error",
     "traceback": [
      "\u001b[1;36m  File \u001b[1;32m\"C:\\Users\\13217\\AppData\\Local\\Temp\\ipykernel_33316\\2898012327.py\"\u001b[1;36m, line \u001b[1;32m5\u001b[0m\n\u001b[1;33m    summary_dict = {'standardD': standard deviation}\u001b[0m\n\u001b[1;37m                                          ^\u001b[0m\n\u001b[1;31mSyntaxError\u001b[0m\u001b[1;31m:\u001b[0m invalid syntax\n"
     ]
    }
   ],
   "source": [
    "mean = list(iris.mean())\n",
    "summary_dict = {'mean': mean}\n",
    "\n",
    "standardD = list(iris.std())\n",
    "summary_dict = {'standardD': standard deviation}\n",
    "\n",
    "minimum = list(iris.min())\n",
    "summary_dict = {'minimum': minimum}\n",
    "\n",
    "maximum = list(iris.max())\n",
    "summary_dict = {'maximum': maximum}\n",
    "\n",
    "summdary_df = pd.DataFrame(data = summary_dict)\n"
   ]
  },
  {
   "cell_type": "code",
   "execution_count": null,
   "id": "f344b4c9-1fec-401f-bad4-f0da7ce71cca",
   "metadata": {},
   "outputs": [],
   "source": []
  }
 ],
 "metadata": {
  "kernelspec": {
   "display_name": "Python 3 (ipykernel)",
   "language": "python",
   "name": "python3"
  },
  "language_info": {
   "codemirror_mode": {
    "name": "ipython",
    "version": 3
   },
   "file_extension": ".py",
   "mimetype": "text/x-python",
   "name": "python",
   "nbconvert_exporter": "python",
   "pygments_lexer": "ipython3",
   "version": "3.9.13"
  }
 },
 "nbformat": 4,
 "nbformat_minor": 5
}
